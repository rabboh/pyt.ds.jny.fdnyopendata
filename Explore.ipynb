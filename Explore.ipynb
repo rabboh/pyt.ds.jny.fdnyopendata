{
 "cells": [
  {
   "cell_type": "markdown",
   "id": "a6deb170",
   "metadata": {},
   "source": [
    "# Exploring the NYFD Fire Incident Dispatch Data Dataset"
   ]
  },
  {
   "cell_type": "markdown",
   "id": "ec77a037",
   "metadata": {},
   "source": [
    "URL: https://data.cityofnewyork.us/Public-Safety/Fire-Incident-Dispatch-Data/8m42-w767      \n",
    "I have used the version that was last updated 8th April 2022"
   ]
  },
  {
   "cell_type": "markdown",
   "id": "60c6b19b",
   "metadata": {},
   "source": [
    "**Please run this initializer code first. The codes below can be executed in arbitrary order.**"
   ]
  },
  {
   "cell_type": "code",
   "execution_count": 12,
   "id": "91dda662",
   "metadata": {},
   "outputs": [],
   "source": [
    "import csv\n",
    "import random\n",
    "import matplotlib.pyplot as plt\n",
    "filename = 'Fire_Incident_Dispatch_Data.csv'"
   ]
  },
  {
   "cell_type": "markdown",
   "id": "b35e89b6",
   "metadata": {},
   "source": [
    "## Identifying the fields of the dataset"
   ]
  },
  {
   "cell_type": "code",
   "execution_count": 5,
   "id": "e58b7cd7",
   "metadata": {},
   "outputs": [
    {
     "name": "stdout",
     "output_type": "stream",
     "text": [
      "0: STARFIRE_INCIDENT_ID\n",
      "1: INCIDENT_DATETIME\n",
      "2: ALARM_BOX_BOROUGH\n",
      "3: ALARM_BOX_NUMBER\n",
      "4: ALARM_BOX_LOCATION\n",
      "5: INCIDENT_BOROUGH\n",
      "6: ZIPCODE\n",
      "7: POLICEPRECINCT\n",
      "8: CITYCOUNCILDISTRICT\n",
      "9: COMMUNITYDISTRICT\n",
      "10: COMMUNITYSCHOOLDISTRICT\n",
      "11: CONGRESSIONALDISTRICT\n",
      "12: ALARM_SOURCE_DESCRIPTION_TX\n",
      "13: ALARM_LEVEL_INDEX_DESCRIPTION\n",
      "14: HIGHEST_ALARM_LEVEL\n",
      "15: INCIDENT_CLASSIFICATION\n",
      "16: INCIDENT_CLASSIFICATION_GROUP\n",
      "17: DISPATCH_RESPONSE_SECONDS_QY\n",
      "18: FIRST_ASSIGNMENT_DATETIME\n",
      "19: FIRST_ACTIVATION_DATETIME\n",
      "20: FIRST_ON_SCENE_DATETIME\n",
      "21: INCIDENT_CLOSE_DATETIME\n",
      "22: VALID_DISPATCH_RSPNS_TIME_INDC\n",
      "23: VALID_INCIDENT_RSPNS_TIME_INDC\n",
      "24: INCIDENT_RESPONSE_SECONDS_QY\n",
      "25: INCIDENT_TRAVEL_TM_SECONDS_QY\n",
      "26: ENGINES_ASSIGNED_QUANTITY\n",
      "27: LADDERS_ASSIGNED_QUANTITY\n",
      "28: OTHER_UNITS_ASSIGNED_QUANTITY\n"
     ]
    }
   ],
   "source": [
    "with open(filename, 'r') as csvinput:\n",
    "    inputreader = csv.reader(csvinput)\n",
    "    fields = next(inputreader)\n",
    "    for i, field in enumerate(fields):\n",
    "        print(str(i) + ': ' + field)"
   ]
  },
  {
   "cell_type": "markdown",
   "id": "b7da91d1",
   "metadata": {},
   "source": [
    "## Number of records"
   ]
  },
  {
   "cell_type": "code",
   "execution_count": 6,
   "id": "bc5466a0",
   "metadata": {},
   "outputs": [
    {
     "name": "stdout",
     "output_type": "stream",
     "text": [
      "8691514\n"
     ]
    }
   ],
   "source": [
    "count = 0\n",
    "with open(filename, 'r') as csvinput:\n",
    "    inputreader = csv.reader(csvinput)\n",
    "    for row in inputreader:\n",
    "        count = count + 1\n",
    "print(count)"
   ]
  },
  {
   "cell_type": "markdown",
   "id": "b3214e45",
   "metadata": {},
   "source": [
    "## An example row"
   ]
  },
  {
   "cell_type": "code",
   "execution_count": 79,
   "id": "76a20479",
   "metadata": {},
   "outputs": [
    {
     "name": "stdout",
     "output_type": "stream",
     "text": [
      "0: 501160590150030\n",
      "1: 01/11/2005 06:37:45 AM\n",
      "2: QUEENS\n",
      "3: 6059\n",
      "4: LIBERTY AVE & 123 ST\n",
      "5: QUEENS\n",
      "6: 11419\n",
      "7: 106\n",
      "8: 28\n",
      "9: 410\n",
      "10: 28\n",
      "11: 5\n",
      "12: PD Link/Medical\n",
      "13: Initial Alarm\n",
      "14: First Alarm\n",
      "15: Medical - Assist Civilian\n",
      "16: Medical Emergencies\n",
      "17: 68\n",
      "18: 01/11/2005 06:38:53 AM\n",
      "19: 01/11/2005 06:39:12 AM\n",
      "20: 01/11/2005 06:42:56 AM\n",
      "21: 01/11/2005 06:45:23 AM\n",
      "22: N\n",
      "23: Y\n",
      "24: 311\n",
      "25: 243\n",
      "26: 1\n",
      "27: 0\n",
      "28: 0\n"
     ]
    }
   ],
   "source": [
    "numrecord = random.randint(1, 25000)\n",
    "with open(filename, 'r') as csvinput:\n",
    "    inputreader = csv.reader(csvinput)\n",
    "    for i in range(numrecord):\n",
    "        row = next(inputreader)\n",
    "for idx,cell in enumerate(row):\n",
    "    print(str(idx)+': '+cell)"
   ]
  },
  {
   "cell_type": "markdown",
   "id": "f19f40b4",
   "metadata": {},
   "source": [
    "## Types of the fields, explanation"
   ]
  },
  {
   "cell_type": "code",
   "execution_count": 14,
   "id": "73a54c7d",
   "metadata": {},
   "outputs": [
    {
     "name": "stdout",
     "output_type": "stream",
     "text": [
      "Total number of full rows (no missing data): 7011215\n",
      "Number of rows where data is missing:\n",
      "0: 20\n",
      "1: 0\n",
      "2: 0\n",
      "3: 0\n",
      "4: 18\n",
      "5: 0\n",
      "6: 519481\n",
      "7: 519003\n",
      "8: 520549\n",
      "9: 519071\n",
      "10: 521368\n",
      "11: 520549\n",
      "12: 0\n",
      "13: 0\n",
      "14: 0\n",
      "15: 0\n",
      "16: 0\n",
      "17: 0\n",
      "18: 47004\n",
      "19: 71261\n",
      "20: 1221303\n",
      "21: 0\n",
      "22: 0\n",
      "23: 0\n",
      "24: 0\n",
      "25: 0\n",
      "26: 0\n",
      "27: 0\n",
      "28: 0\n"
     ]
    }
   ],
   "source": [
    "missingdata = [0]*29\n",
    "fullrows = 0\n",
    "with open(filename, 'r') as csvinput:\n",
    "    inputreader = csv.reader(csvinput)\n",
    "    for row in inputreader:\n",
    "        fullrow = True\n",
    "        for idx,cell in enumerate(row):\n",
    "            if (cell==''):\n",
    "                missingdata[idx] += 1\n",
    "                fullrow = False\n",
    "        if fullrow == True:\n",
    "            fullrows += 1\n",
    "print('Total number of full rows (no missing data): '+str(fullrows))\n",
    "print('Number of rows where data is missing:')\n",
    "for idx,cell in enumerate(missingdata):\n",
    "    print(str(idx)+': '+str(cell))"
   ]
  },
  {
   "cell_type": "markdown",
   "id": "f67af763",
   "metadata": {},
   "source": [
    "**STARFIRE_INCIDENT_ID** (Numeric)    \n",
    "Numeric value, always 15 digits, unique, never missing   \n",
    "This is the unique identifier of the incident in the Starfire Computer Aided Dispatch System, the computer system used by the New York Fire Department."
   ]
  },
  {
   "cell_type": "markdown",
   "id": "666a109a",
   "metadata": {},
   "source": [
    "**INCIDENT_DATETIME** (String)   \n",
    "String, always 22 characters long, never missing    \n",
    "Date and time of the incident, in 12-hour format. It's format is DD/MM/YYYY HH:MM:SS mm"
   ]
  },
  {
   "cell_type": "markdown",
   "id": "46ac3cdb",
   "metadata": {},
   "source": [
    "**ALARM_BOX_BOROUGH** (String, Enumerated)   \n",
    "String, one of the five boroughs of New York City.   \n",
    "About the alarm boxes: https://www.firefighternation.com/firerescue/what-exactly-is-a-box-alarm-nozzlehead/#gref   \n",
    "BRONX    \n",
    "BROOKLYN    \n",
    "MANHATTAN   \n",
    "QUEENS    \n",
    "RICHMOND / STATEN ISLAND"
   ]
  },
  {
   "cell_type": "markdown",
   "id": "ba2d4587",
   "metadata": {},
   "source": [
    "**ALARM_BOX_NUMBER** (Numeric)   \n",
    "Numeric "
   ]
  },
  {
   "cell_type": "markdown",
   "id": "977e9e05",
   "metadata": {},
   "source": [
    "**ALARM_BOX_LOCATION** (String)  \n",
    "String, street address of the alarm box"
   ]
  },
  {
   "cell_type": "markdown",
   "id": "b263e3d5",
   "metadata": {},
   "source": [
    "**INCIDENT_BOROUGH** (String, Enumerated)   \n",
    "x"
   ]
  },
  {
   "cell_type": "markdown",
   "id": "52ea6c14",
   "metadata": {},
   "source": [
    "**ZIPCODE**   \n",
    "x"
   ]
  },
  {
   "cell_type": "markdown",
   "id": "5b4e0abf",
   "metadata": {},
   "source": [
    "**POLICEPRECINCT**   \n",
    "x"
   ]
  },
  {
   "cell_type": "markdown",
   "id": "ad2af0f4",
   "metadata": {},
   "source": [
    "**CITYCOUNCILDISTRICT**   \n",
    "x"
   ]
  },
  {
   "cell_type": "markdown",
   "id": "718c6c5d",
   "metadata": {},
   "source": [
    "**COMMUNITYDISTRICT**    \n",
    "x"
   ]
  },
  {
   "cell_type": "markdown",
   "id": "ebe9621f",
   "metadata": {},
   "source": [
    "**COMMUNITYSCHOOLDISTRICT**    \n",
    "x"
   ]
  },
  {
   "cell_type": "markdown",
   "id": "19d21304",
   "metadata": {},
   "source": [
    "**CONGRESSIONALDISTRICT**    \n",
    "x"
   ]
  },
  {
   "cell_type": "markdown",
   "id": "899689a0",
   "metadata": {},
   "source": [
    "**ALARM_SOURCE_DESCRIPTION_TX** (String, Enumerated)   \n",
    "911   \n",
    "911 Text  \n",
    "BARS  \n",
    "DEFAULT RECORD  \n",
    "EMS Link/Medical  \n",
    "ERS  \n",
    "ERS No Contact  \n",
    "PD Link/Medical  \n",
    "Phone  \n",
    "Private Fire Alarm  \n",
    "UCT/911  \n",
    "Verbal  "
   ]
  },
  {
   "cell_type": "code",
   "execution_count": 28,
   "id": "d67dc1b0",
   "metadata": {},
   "outputs": [
    {
     "name": "stdout",
     "output_type": "stream",
     "text": [
      "911\n",
      "911 Text\n",
      "BARS\n",
      "DEFAULT RECORD\n",
      "EMS Link/Medical\n",
      "ERS\n",
      "ERS No Contact\n",
      "PD Link/Medical\n",
      "Phone\n",
      "Private Fire Alarm\n",
      "UCT/911\n",
      "Verbal\n"
     ]
    }
   ],
   "source": [
    "# The first n distinct value of a field x\n",
    "distinctvalues = []\n",
    "threshold = 50\n",
    "fieldnum = 12\n",
    "with open(filename, 'r') as csvinput:\n",
    "    inputreader = csv.reader(csvinput)\n",
    "    next(inputreader)\n",
    "    for row in inputreader:\n",
    "        for idx,cell in enumerate(row):\n",
    "            if idx==fieldnum and cell not in distinctvalues and len(distinctvalues)<threshold:\n",
    "                distinctvalues.append(cell)\n",
    "distinctvalues.sort()\n",
    "for value in distinctvalues:\n",
    "    print(value)"
   ]
  },
  {
   "cell_type": "code",
   "execution_count": null,
   "id": "6b88bdf7",
   "metadata": {},
   "outputs": [],
   "source": []
  },
  {
   "cell_type": "code",
   "execution_count": null,
   "id": "3d0e0251",
   "metadata": {},
   "outputs": [],
   "source": []
  }
 ],
 "metadata": {
  "kernelspec": {
   "display_name": "Python 3 (ipykernel)",
   "language": "python",
   "name": "python3"
  },
  "language_info": {
   "codemirror_mode": {
    "name": "ipython",
    "version": 3
   },
   "file_extension": ".py",
   "mimetype": "text/x-python",
   "name": "python",
   "nbconvert_exporter": "python",
   "pygments_lexer": "ipython3",
   "version": "3.8.10"
  }
 },
 "nbformat": 4,
 "nbformat_minor": 5
}
